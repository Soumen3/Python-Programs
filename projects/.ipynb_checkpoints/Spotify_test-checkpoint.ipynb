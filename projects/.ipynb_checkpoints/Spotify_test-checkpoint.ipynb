{
 "cells": [
  {
   "cell_type": "code",
   "execution_count": 1,
   "id": "3530fb2d-8f8b-4621-ae47-2ad2612d43f5",
   "metadata": {},
   "outputs": [
    {
     "name": "stdout",
     "output_type": "stream",
     "text": [
      "Requirement already satisfied: spotipy in d:\\python\\projects\\venv\\lib\\site-packages (2.23.0)\n",
      "Requirement already satisfied: redis>=3.5.3 in d:\\python\\projects\\venv\\lib\\site-packages (from spotipy) (5.0.1)\n",
      "Requirement already satisfied: requests>=2.25.0 in d:\\python\\projects\\venv\\lib\\site-packages (from spotipy) (2.31.0)\n",
      "Requirement already satisfied: six>=1.15.0 in d:\\python\\projects\\venv\\lib\\site-packages (from spotipy) (1.16.0)\n",
      "Requirement already satisfied: urllib3>=1.26.0 in d:\\python\\projects\\venv\\lib\\site-packages (from spotipy) (2.1.0)\n",
      "Requirement already satisfied: charset-normalizer<4,>=2 in d:\\python\\projects\\venv\\lib\\site-packages (from requests>=2.25.0->spotipy) (3.3.2)\n",
      "Requirement already satisfied: idna<4,>=2.5 in d:\\python\\projects\\venv\\lib\\site-packages (from requests>=2.25.0->spotipy) (3.4)\n",
      "Requirement already satisfied: certifi>=2017.4.17 in d:\\python\\projects\\venv\\lib\\site-packages (from requests>=2.25.0->spotipy) (2023.11.17)\n"
     ]
    }
   ],
   "source": [
    "!pip install spotipy"
   ]
  },
  {
   "cell_type": "markdown",
   "id": "debb5d68-b430-448a-bf45-93aa19549bf7",
   "metadata": {},
   "source": [
    "# Getting the Artist album using artist's uri"
   ]
  },
  {
   "cell_type": "code",
   "execution_count": 2,
   "id": "1475947e-27d0-4101-beef-5825c70e8a05",
   "metadata": {
    "scrolled": true
   },
   "outputs": [
    {
     "name": "stdout",
     "output_type": "stream",
     "text": [
      "Bhalobasa Bhalobasa (Original Motion Picture Soundtrack)\n",
      "Banshadhar (Original Motion Picture Soundtrack)\n",
      "Alka Yagnik Love Songs\n",
      "Agnipariksha (Original Motion Picture Soundtrack)\n",
      "Unforgettable Alka Yagnik\n",
      "Alka Yagnik Ke Nagme\n",
      "Bengali Ever Green Alka Yagnik\n",
      "Kumar Sanu & Alka Yagnik Duet Hits\n",
      "Damini - Jhankar Beats\n",
      "51 SHAKTI PEETH - Pt. 03\n",
      "51 Shakti peeth - pt. 02\n",
      "51 SHAKTI PEETH - Pt. 01\n",
      "Dil Tere Naam Kiya\n",
      "Sajan Tara Sambharna\n",
      "Bollywood Romance With Alka Yagnik & Udit Narayan\n",
      "Ondho Hridoy\n",
      "Aajker Prem\n",
      "Sensational Duets (Abhijeet & Alka Yagnik)\n",
      "Musical Delight\n",
      "Bollywood Melody Queen (Alka Yagnik)\n",
      "Bangla Hub with Alka Yagnik\n",
      "Byatha Aur Prem Kavita, Vol. 1\n",
      "Pehla Pyar\n",
      "Ghazal Ka Safar, Vol. 1\n",
      "Phule Phule\n",
      "Rajnigandha\n",
      "Love Always\n",
      "Mone Robe\n",
      "Tulsidas Bhajans\n",
      "Tumse Ankhiyan Mili\n",
      "Jab - Javed Akhtar &amp; Alka Yagnik\n",
      "Deachi E Mon\n",
      "Sakhi Main Shyam\n",
      "Rakhwale\n",
      "Sandhayatara\n",
      "Jaabe Na Tomai Bhule Jaowa\n",
      "Haseen Raatein\n",
      "Mashooqa\n",
      "Mere Bhagwan Shri Vishnuji (Vishnu Bhajan)\n",
      "Ganpati Bappa Daya Karo (Ganpati Bhajan)\n",
      "Jabse Dil Lagaya\n",
      "Shairana\n",
      "Ram Siyapati Ram (Ram Bhajan)\n",
      "Aaj Tera Jagrata Maa (Mata Bhajan)\n",
      "Tum Aaye\n",
      "Tumi Aamar Priyotoma\n",
      "Dil Le Gaya Ajnabi\n",
      "Khoya Khoya Chand\n",
      "Teen Kanya\n",
      "Woh Mera Hoga\n",
      "Bhaj Hari Om Namah Shivay (Shiv Bhajan)\n",
      "Mata Rani Ka Dhyan Dhariye (Mata Bhajan)\n",
      "Aaja Re Tujhe Sai Bulaye (Sai Bhajan)\n",
      "Durga Siddhi (Mata Bhajan)\n",
      "Gaane Bhuban Bhariya Debo, Pt. 2\n",
      "Gaane Bhuban Bhariya Debo, Pt. 1\n",
      "Mere Bhagwan Gayatri Maa (Mata Bhajan)\n",
      "Govind Jai Jai, Gopal Jai Jai (Krishna Bhajan)\n",
      "Hi ! Ajnabi\n",
      "Dil Kitna Nadan Hai\n",
      "Mujhe Darshan De Maa (Mata Bhajan)\n",
      "Simply Love\n",
      "Karo Itni Mohabbat Sanam\n",
      "Mata Ka Bulava Aaya Hai (Mata Bhajan)\n",
      "Aartiyan, Vol. 2\n",
      "Aartiyan, Vol. 1\n",
      "Bhajan Sarita\n",
      "Mere Humdum\n",
      "Mishti Hawa\n",
      "Emitee Thakuro Kalia\n",
      "Tomar Naam Likhe Debo\n",
      "Rahbar\n",
      "Tezaab: Super Jhankar Beat\n",
      "Adhunik Bangla Gaan - Mohammed Aziz and Alka Yagnik\n",
      "Aadhunik Bangla Gaan - Alka Yagnik\n",
      "Maa Ki Mahima Vol-3\n",
      "Adhunik Bangla Gaan - Alka Yagnik and Vijay Benedict\n",
      "Payal\n",
      "Amar Silpi - Moner Darja\n",
      "Godna\n",
      "Champa Chameli\n",
      "Ganga Aabad Rakhih Sajanwa Ke\n",
      "Braj Geet\n",
      "Mohd. Aziz Alka Yagnik - Aadhunik Bangla Gaan\n"
     ]
    }
   ],
   "source": [
    "import spotipy\n",
    "from spotipy.oauth2 import SpotifyClientCredentials\n",
    "\n",
    "artist_uri = 'spotify:artist:3gBKY0y3dFFVRqicLnVZYz'\n",
    "spotify = spotipy.Spotify(client_credentials_manager=SpotifyClientCredentials(client_id=\"b61b4c001f0a4aa5b1a0da3b19882d5a\", client_secret=\"f92f39de209647ed9d832662e011f735\"))\n",
    "\n",
    "results = spotify.artist_albums(artist_uri, album_type='album')\n",
    "albums = results['items']\n",
    "while results['next']:\n",
    "    results = spotify.next(results)\n",
    "    albums.extend(results['items'])\n",
    "\n",
    "for album in albums:\n",
    "    print(album['name'])\n",
    "\n",
    "# https://open.spotify.com/artist/4YRxDV8wJFPHPTeXepOstw?si=scFztWD-T1S4z70d7M67gw\n",
    "# https://open.spotify.com/playlist/0xSNBjJbf9f7O2BhiBLSfL?si=67897724839e4d91\n",
    "# https://open.spotify.com/artist/2WX2uTcsvV5OnS0inACecP?si=U9k2og5JSSCl3NjLBuFYFw"
   ]
  },
  {
   "cell_type": "markdown",
   "id": "35ec45be-6c9e-4ccc-b286-44c9542878d0",
   "metadata": {},
   "source": [
    "# Getting the artist URI from artist Name"
   ]
  },
  {
   "cell_type": "code",
   "execution_count": 1,
   "id": "aca9b018-6d70-4312-9ba7-bf67f91e4118",
   "metadata": {},
   "outputs": [
    {
     "name": "stdout",
     "output_type": "stream",
     "text": [
      "access token: BQB9f6BG1U_i-UuO5W0Mg10hd-vm0AqUCXROW6sLdRgZlJ2ivM1gdqDbPEj8v3dgFvYiOKlr6DCOIQnVUuEPFuLSxDWs4o8CSihpyidThBGMIy-e3-GcT4wt32z-o7Kcwy9xvTubXvozW1xmxonstMQuX2cG3Oguuam4fquMzx-7su6D9EpevK36uAN3HxSO7BBBylT_0Cdb1YFsoLkocA\n",
      "<Response [200]>\n",
      "spotify:artist:3gBKY0y3dFFVRqicLnVZYz\n"
     ]
    }
   ],
   "source": [
    "import requests\n",
    "\n",
    "\n",
    "import spotipy\n",
    "from spotipy.oauth2 import SpotifyOAuth\n",
    "\n",
    "sp = spotipy.Spotify(auth_manager=SpotifyOAuth(client_id='b61b4c001f0a4aa5b1a0da3b19882d5a', client_secret='7913cc051a7e4c8f8b2871c21ee8f8de', redirect_uri='http://127.0.0.1:8000/callback/', scope='user-library-read'))\n",
    "\n",
    "access_token = \"BQB9f6BG1U_i-UuO5W0Mg10hd-vm0AqUCXROW6sLdRgZlJ2ivM1gdqDbPEj8v3dgFvYiOKlr6DCOIQnVUuEPFuLSxDWs4o8CSihpyidThBGMIy-e3-GcT4wt32z-o7Kcwy9xvTubXvozW1xmxonstMQuX2cG3Oguuam4fquMzx-7su6D9EpevK36uAN3HxSO7BBBylT_0Cdb1YFsoLkocA\"\n",
    "\n",
    "\n",
    "print(\"access token:\", access_token) \n",
    "query = 'alka yagnik'\n",
    "\n",
    "response = requests.get('https://api.spotify.com/v1/search?q=' + query + '&type=artist', headers={'Authorization': 'Bearer ' + access_token})\n",
    "print (response)\n",
    "if response.status_code == 200:\n",
    "     # Request was successful\n",
    "    data = response.json()\n",
    "    artist_uri = data['artists']['items'][0]['uri']\n",
    "    print(artist_uri)\n",
    "    # Do something with the artist URI\n",
    "else:\n",
    "  # Request failed\n",
    "  print('Error:', response.status_code)\n",
    "\n"
   ]
  },
  {
   "cell_type": "code",
   "execution_count": null,
   "id": "f8fbc175-367f-428d-a31c-8e4646db6ecd",
   "metadata": {},
   "outputs": [],
   "source": [
    "import requests\n",
    "\n",
    "\n",
    "import spotipy\n",
    "from spotipy.oauth2 import SpotifyOAuth\n",
    "\n",
    "sp = spotipy.Spotify(auth_manager=SpotifyOAuth(client_id='b61b4c001f0a4aa5b1a0da3b19882d5a', client_secret='f92f39de209647ed9d832662e011f735', redirect_uri='http://127.0.0.1:8000/callback/', scope='user-library-read'))\n",
    "\n",
    "\n",
    "access_token = \"BQB9f6BG1U_i-UuO5W0Mg10hd-vm0AqUCXROW6sLdRgZlJ2ivM1gdqDbPEj8v3dgFvYiOKlr6DCOIQnVUuEPFuLSxDWs4o8CSihpyidThBGMIy-e3-GcT4wt32z-o7Kcwy9xvTubXvozW1xmxonstMQuX2cG3Oguuam4fquMzx-7su6D9EpevK36uAN3HxSO7BBBylT_0Cdb1YFsoLkocA\"\n",
    "\n",
    "\n",
    "\n",
    "print(\"access token:\", access_token) "
   ]
  },
  {
   "cell_type": "code",
   "execution_count": null,
   "id": "79f4c6ec-dbc5-44ce-94b9-dbdda32c2a19",
   "metadata": {},
   "outputs": [],
   "source": []
  },
  {
   "cell_type": "code",
   "execution_count": null,
   "id": "e2b1ca22-af03-47d2-955e-d870831d8c4a",
   "metadata": {},
   "outputs": [],
   "source": []
  }
 ],
 "metadata": {
  "kernelspec": {
   "display_name": "Python 3 (ipykernel)",
   "language": "python",
   "name": "python3"
  },
  "language_info": {
   "codemirror_mode": {
    "name": "ipython",
    "version": 3
   },
   "file_extension": ".py",
   "mimetype": "text/x-python",
   "name": "python",
   "nbconvert_exporter": "python",
   "pygments_lexer": "ipython3",
   "version": "3.12.0"
  }
 },
 "nbformat": 4,
 "nbformat_minor": 5
}
