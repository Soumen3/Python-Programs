{
 "cells": [
  {
   "cell_type": "code",
   "execution_count": null,
   "id": "20fa3765-0d09-49e6-9a6d-4a0836f15c67",
   "metadata": {},
   "outputs": [],
   "source": [
    "!pip install -q -U google-generativeai"
   ]
  },
  {
   "cell_type": "code",
   "execution_count": null,
   "id": "5ab21512-6afa-456b-b6d3-93f2a3a27a12",
   "metadata": {},
   "outputs": [],
   "source": [
    "import google.generatibeai as genai"
   ]
  },
  {
   "cell_type": "code",
   "execution_count": null,
   "id": "99002e1e-04d4-4f07-8a2c-d195ecda51fb",
   "metadata": {},
   "outputs": [],
   "source": [
    "print(\"hello\")"
   ]
  },
  {
   "cell_type": "code",
   "execution_count": null,
   "id": "d386832e-e998-4d93-9532-26ae2e949b3e",
   "metadata": {},
   "outputs": [],
   "source": []
  }
 ],
 "metadata": {
  "kernelspec": {
   "display_name": "Python 3 (ipykernel)",
   "language": "python",
   "name": "python3"
  },
  "language_info": {
   "name": ""
  }
 },
 "nbformat": 4,
 "nbformat_minor": 5
}
